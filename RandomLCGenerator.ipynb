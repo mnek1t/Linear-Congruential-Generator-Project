{
 "cells": [
  {
   "cell_type": "markdown",
   "id": "90bba261-c545-4696-89c4-109ed64e2e8e",
   "metadata": {
    "tags": []
   },
   "source": [
    "# Random Number Generation\n",
    "During the observations, I will use Python code to demonstrate the generation \n",
    "of pseudorandom variables using linear congruential generator formula "
   ]
  },
  {
   "cell_type": "markdown",
   "id": "da69acd0-f8fb-40df-8a92-1d69c9411355",
   "metadata": {},
   "source": [
    "## Introduction:\n",
    "\n",
    "Before I start, I should explain a little why we do actually need randomness. Randomness is known for its **\"unpredictability\"** (I will talk about this more) and distributions. For instance, we can use randomness in encryption. We can send messages, that is not readable by anyone. But, here is a problem. How our message will be *read* by our recipient. The encryption *has to* be decrypted. So here comes **algorithms of randomness** or \"laws\". Using them we can predict the randomness.\n",
    "\n",
    "A **random variable** is a mathematical formalization of a quantity or object which depends on *random events*\n",
    "Assuming mentioned above, random variable is **not** random **nor** variable. It is an outcome of some function from algorithm \n",
    "by the *pseudo random variable generator*.\n",
    "\n",
    "**Pseudo Random Number Generator(PRNG)** is a process that refers to an algorithm that uses mathematical formulas \n",
    "to produce sequences of random numbers. In our case, such formula will be presented as *linear congruential formula*.\n",
    " \n",
    "A **linear congruential generator (LCG)** is an algorithm that yields a sequence of pseudo-randomized numbers calculated with a discontinuous piecewise linear equation. \n",
    "The method represents one of the oldest and best-known pseudorandom number generator algorithms.\n",
    "The generator is defined by the recurrence relation: $$ X_{n+1} = (aX_n+c)\\mod m $$\n",
    "where $X$ is the sequence of pseudo-random values, and \n",
    "|Value and constraints|Describtion|\n",
    "|---------------------|-----------|\n",
    "|$$m, 0\\lt m $$       |the modulus|\n",
    "|$$a, 0\\lt a \\lt m$$  |the multiplier|\n",
    "|$$c, 0\\le c \\lt m $$ |the increment|\n",
    "|$$ X_0, 0\\leq X_0 \\lt m $$|the seed or start value|\n",
    "The basic idea of the generator lies on its formula. In a nutshell, we multiply the initial value (seed) or the previous one obtained by the previous operation (suppose we have already deployed a formula), add the parameter c, and, with received result we take the modulo m. \n"
   ]
  },
  {
   "cell_type": "code",
   "execution_count": 2,
   "id": "aa133227-a27e-4a69-b7b9-532d8f31e8eb",
   "metadata": {},
   "outputs": [
    {
     "name": "stdout",
     "output_type": "stream",
     "text": [
      "Generated pseudorandom sequence: [1250496027, 1116302264, 1000676753, 1668674806, 908095735]\n"
     ]
    }
   ],
   "source": [
    "class LinearCongruentialGenerator:\n",
    "    def __init__(self, seed, a, c, m):  #constructor takes 4 parameters and initialize fields \n",
    "        self.state = seed\n",
    "        self.a = a\n",
    "        self.c = c\n",
    "        self.m = m\n",
    "\n",
    "    def next_random(self):\n",
    "        self.state = (self.a * self.state + self.c) % self.m #provide a formula\n",
    "        return self.state\n",
    "\n",
    "# initialize parameters for using them in LCG (values are changeable and exactly these are taken from Wikipedia (see references))\n",
    "seed_value = 42\n",
    "a_value = 1103515245\n",
    "c_value = 12345\n",
    "m_value = 2**31\n",
    "\n",
    "# instance of LCG class where we fetch all neccessary paramenters in according with constructor context\n",
    "lcg = LinearCongruentialGenerator(seed_value, a_value, c_value, m_value)\n",
    "\n",
    "#call a function next_random() on lcg objecgt and write to the list of range pointed in paranthesis of range() function\n",
    "random_sequence = [lcg.next_random() for _ in range(5)]\n",
    "#print the list of received numbers\n",
    "print(\"Generated pseudorandom sequence:\", random_sequence)"
   ]
  },
  {
   "cell_type": "markdown",
   "id": "39f71229-0698-483e-aad1-52def3b3029d",
   "metadata": {},
   "source": [
    "## Analyses:\n",
    "\n",
    "By starting the code above different times, we always get the same sequence of numbers. It does not even matter how many numbers we have in a sequence, 4 or 10 or 1 or 2312312412. It is absolutely understandable, because as I said there is no random variables, actually. All these depend on initial condition. In our case this condition is determined by seed = 42. Here one question is firing. By knowing the seed we can predict the number? Yes, but how? In our case we also need to know some additional parameters like modulus, increment and multiplier. \n",
    "\n",
    "Nevertheless, what if I say that in some sequence of number, numbers will repeat. YES! LCG has periodicity, and after a certain number of generated numbers they will start repeating themselves. \n",
    "Formula for obtaining a period: $$a^p \\mod m \\equiv 1$$\n",
    "*P.s.* One moment, I suggest taking small numbers in parameters because the calculation of period is quietly labor-intensive process, and it can take a while or even Memory Error exception and crash. I little bit prevent you from Memory Error thrown from the code by limitation presenting a variable *max_iteration*. **Please do not make it bigger if it is possible.** \n",
    "If period limit the max_iteration, that means in this sequence all numbers are unique."
   ]
  },
  {
   "cell_type": "code",
   "execution_count": 3,
   "id": "acb2c358-5dd1-4752-a079-bfab8ec1434e",
   "metadata": {},
   "outputs": [
    {
     "name": "stdout",
     "output_type": "stream",
     "text": [
      "Period LCG: 100000\n"
     ]
    }
   ],
   "source": [
    "#RECCOMEND: DECREASE THE VALUES OF PARAMETERS BY WITHDRAWAL A COMMENT!\n",
    "#seed_value = 1\n",
    "#a_value = 2\n",
    "#c_value = 3\n",
    "#m_value = 5\n",
    "def find_lcg_period(seed, a, c, m, max_iterations=100000):\n",
    "    values_seen = set()\n",
    "    current_value = seed\n",
    "    period = 0\n",
    "\n",
    "    for i in range(max_iterations):\n",
    "        if current_value in values_seen:\n",
    "            break\n",
    "        else:\n",
    "            values_seen.add(current_value)\n",
    "            current_value = (a * current_value + c) % m\n",
    "            period += 1\n",
    "\n",
    "    return period\n",
    "period = find_lcg_period(seed_value, a_value, c_value, m_value)\n",
    "print(f\"Period LCG: {period}\")"
   ]
  },
  {
   "cell_type": "markdown",
   "id": "119c2f60-5030-41fa-afa6-1cf0fd64bbd6",
   "metadata": {},
   "source": [
    "For the provided code I can also make a calculation of some statistical variables: mean, variance and standard deviation values."
   ]
  },
  {
   "cell_type": "code",
   "execution_count": 4,
   "id": "5ef3f03a-14cd-4158-ae6b-56e08d30a57e",
   "metadata": {},
   "outputs": [
    {
     "name": "stdout",
     "output_type": "stream",
     "text": [
      "Mean: 1188849117.0, Variance: 8.838184482371571e+16, Standart Deviation: 297290842.1457272\n"
     ]
    }
   ],
   "source": [
    "import statistics\n",
    "mean = sum(random_sequence)/len(random_sequence)\n",
    "std_dev = statistics.stdev(random_sequence)\n",
    "variance = statistics.variance(random_sequence)\n",
    "print(f\"Mean: {mean}, Variance: {variance}, Standart Deviation: {std_dev}\")"
   ]
  },
  {
   "cell_type": "markdown",
   "id": "332452c2-cca9-454a-9231-4f9af1f888cf",
   "metadata": {},
   "source": [
    "Let's now check some interesting moment. What if we will change the value of modulo **m**. \n",
    "(Also I decrease significantly values of a, c and seed for better viewing)"
   ]
  },
  {
   "cell_type": "code",
   "execution_count": 5,
   "id": "9ae8e0df-8194-4148-8432-74f22dd5447c",
   "metadata": {},
   "outputs": [
    {
     "name": "stdout",
     "output_type": "stream",
     "text": [
      "Generated pseudorandom sequence: [0, 3, 4, 1, 0, 3, 4, 1, 0, 3, 4, 1, 0, 3, 4, 1, 0, 3, 4, 1]\n",
      "Period LCG: 4\n"
     ]
    }
   ],
   "source": [
    "seed_value = 1\n",
    "a_value = 2\n",
    "c_value = 3\n",
    "m_value = 5\n",
    "\n",
    "lcg = LinearCongruentialGenerator(seed_value, a_value, c_value, m_value)\n",
    "#everyting works as in previous code, but here i do not store the value in separate variable. I fetch the calculation directly.\n",
    "print(\"Generated pseudorandom sequence:\", [lcg.next_random() for _ in range(20)])\n",
    "print(f\"Period LCG: {find_lcg_period(seed_value, a_value, c_value, m_value)}\")"
   ]
  },
  {
   "cell_type": "markdown",
   "id": "423f5f24-008a-4baf-b831-04915364f1f5",
   "metadata": {},
   "source": [
    "I can visualize the obtained result sequence in graph, for more explicit view of randomness."
   ]
  },
  {
   "cell_type": "code",
   "execution_count": 1,
   "id": "f31d53cd-3787-4d0c-b293-3c7f376d77fc",
   "metadata": {},
   "outputs": [
    {
     "data": {
      "image/png": "[encoded data removed]",
      "text/plain": [
       "<Figure size 640x480 with 1 Axes>"
      ]
     },
     "metadata": {},
     "output_type": "display_data"
    }
   ],
   "source": [
    "#Use this cell for self-analyze\n",
    "import matplotlib.pyplot as plt\n",
    "plt.plot([0, 3, 4, 1, 0, 3, 4, 1, 0, 3, 4, 1, 0, 3, 4, 1, 0, 3, 4, 1])\n",
    "plt.title('LCG Sequence')\n",
    "plt.xlabel('Iteration')\n",
    "plt.ylabel('Value')\n",
    "plt.show()"
   ]
  },
  {
   "cell_type": "code",
   "execution_count": 6,
   "id": "359be1f1-4c9a-4c32-9011-d57c48533e3d",
   "metadata": {},
   "outputs": [
    {
     "name": "stdout",
     "output_type": "stream",
     "text": [
      "Generated pseudorandom sequence: [5, 1, 5, 1, 5, 1, 5, 1, 5, 1, 5, 1, 5, 1, 5, 1, 5, 1, 5, 1]\n",
      "Period LCG: 2\n"
     ]
    }
   ],
   "source": [
    "m_value = 12\n",
    "lcg = LinearCongruentialGenerator(seed_value, a_value, c_value, m_value)\n",
    "print(\"Generated pseudorandom sequence:\", [lcg.next_random() for _ in range(20)])\n",
    "print(f\"Period LCG: {find_lcg_period(seed_value, a_value, c_value, m_value)}\")"
   ]
  },
  {
   "cell_type": "code",
   "execution_count": 7,
   "id": "93bef718-0d56-4703-8930-8901597bd8be",
   "metadata": {},
   "outputs": [
    {
     "name": "stdout",
     "output_type": "stream",
     "text": [
      "Generated pseudorandom sequence: [5, 13, 12, 10, 6, 15, 16, 1, 5, 13, 12, 10, 6, 15, 16, 1, 5, 13, 12, 10]\n",
      "Period LCG: 8\n"
     ]
    }
   ],
   "source": [
    "m_value = 17\n",
    "lcg = LinearCongruentialGenerator(seed_value, a_value, c_value, m_value)\n",
    "print(\"Generated pseudorandom sequence:\", [lcg.next_random() for _ in range(20)])\n",
    "print(f\"Period LCG: {find_lcg_period(seed_value, a_value, c_value, m_value)}\")"
   ]
  },
  {
   "cell_type": "code",
   "execution_count": 8,
   "id": "71fd46b1-a2eb-4a0b-a29a-8174b1633a95",
   "metadata": {},
   "outputs": [
    {
     "name": "stdout",
     "output_type": "stream",
     "text": [
      "Generated pseudorandom sequence: [5, 13, 5, 13, 5, 13, 5, 13, 5, 13, 5, 13, 5, 13, 5, 13, 5, 13, 5, 13]\n",
      "Period LCG: 3\n"
     ]
    }
   ],
   "source": [
    "m_value = 24\n",
    "lcg = LinearCongruentialGenerator(seed_value, a_value, c_value, m_value)\n",
    "print(\"Generated pseudorandom sequence:\", [lcg.next_random() for _ in range(20)])\n",
    "print(f\"Period LCG: {find_lcg_period(seed_value, a_value, c_value, m_value)}\")"
   ]
  },
  {
   "cell_type": "markdown",
   "id": "b258bcd2-69ac-46a0-b7a3-58d07f1f24b9",
   "metadata": {},
   "source": [
    "Period is obviously bigger when the modulo is prime number (can be divided only by 1 and itself)\n",
    "Prime numbers provide the maximum \"full period\" for most parameter choices \n",
    "a, c, and m. If m is not simple, a more careful choice of parameters is needed to ensure the full period. When \n",
    "m is a prime number, the period is usually equal to m-1 that is the maximum possible value for the LCG period when selecting the \n",
    "m as a prime number."
   ]
  },
  {
   "cell_type": "markdown",
   "id": "1dd55084-650a-4b33-9c94-fe720f28c0d3",
   "metadata": {},
   "source": [
    "Pros and cons of LCG:\n",
    "\n",
    "Advantages:\n",
    "- fast; \n",
    "- require minimal memory to retain state; \n",
    "- suitable for simulating multiple independent streams.\n",
    "\n",
    "Disadvantages:\n",
    "- sensitivity for parameters **m** and **a**;\n",
    "- too easy to predict;\n",
    "- not stable for randomness."
   ]
  },
  {
   "cell_type": "markdown",
   "id": "097d6bfa-d920-452b-9b32-a52818b275ef",
   "metadata": {},
   "source": [
    "## Conclusion\n",
    "During this report, I have learned how to build a document combined with peaces of code in Python and Markdown text in cells. I like this because it is very convenient in structure, easy to understand and time-consuming. I believe it helps anyone in building reports. Also, the good feature that Python is no only one, platform also support R programming language. Moreover, I have learned how to make a markup text using LaTeX formulas. I have basic knowledge in HTML, so it helps me to understand using symbols easier. Also, I am happy that learning Jupyter Notebook was provided by an equally interesting topic of Random Number Generator with example of Linear Congruential generator formula. It can be very useful for my future career plans and goals, and a good chance to perform my knowledge during the interview and win among other candidates). I find random algorithms useful in Game Development and Cybersecurity directions. Of course, this observation is not the end, and the progress upgrades. I will continue learning random algorithm further, improve code generators. LCG is not the best one, and there are some that should be discussed. As the main one, LCG is very very sensitive for its a and m parameters. For example a and c create a simple counter with modulo m that has a long period, but obviously it is not \"random\". My next step can lie on learning RANDU algorithm that seems interesting for me."
   ]
  },
  {
   "cell_type": "markdown",
   "id": "37fccf07-34ac-41c3-93e7-c830917cae13",
   "metadata": {},
   "source": [
    "## References:\n",
    "[Code in Python](https://www.geeksforgeeks.org/linear-congruence-method-for-generating-pseudo-random-numbers/)\n",
    "\n",
    "[Random Variables](https://en.wikipedia.org/wiki/Random_variable#:~:text=The%20term%20'random%20variable'%20can,e.g.%2C%20in%20which%201%20is)\n",
    "    \n",
    "[Linear Congruential generator](https://en.wikipedia.org/wiki/Linear_congruential_generator)\n",
    "    \n",
    "[Pseudo Random Number Generator](https://www.linkedin.com/pulse/pseudo-random-number-generator-prng-rafi-mahmud/)\n",
    "\n",
    "[How to Write Fomulas in Jupyter](https://jupyterbook.org/en/stable/content/math.html)"
   ]
  },
  {
   "cell_type": "code",
   "execution_count": null,
   "id": "7e45061a-c7d1-4fd1-888c-0f5979892577",
   "metadata": {},
   "outputs": [],
   "source": []
  }
 ],
 "metadata": {
  "kernelspec": {
   "display_name": "Python 3 (ipykernel)",
   "language": "python",
   "name": "python3"
  },
  "language_info": {
   "codemirror_mode": {
    "name": "ipython",
    "version": 3
   },
   "file_extension": ".py",
   "mimetype": "text/x-python",
   "name": "python",
   "nbconvert_exporter": "python",
   "pygments_lexer": "ipython3",
   "version": "3.8.16"
  }
 },
 "nbformat": 4,
 "nbformat_minor": 5
}
